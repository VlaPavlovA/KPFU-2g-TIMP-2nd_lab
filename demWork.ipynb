{
 "cells": [
  {
   "cell_type": "code",
   "execution_count": 1,
   "id": "initial_id",
   "metadata": {
    "collapsed": true,
    "ExecuteTime": {
     "end_time": "2024-04-04T07:36:58.692284600Z",
     "start_time": "2024-04-04T07:36:58.677023700Z"
    }
   },
   "outputs": [],
   "source": []
  },
  {
   "cell_type": "code",
   "outputs": [
    {
     "name": "stdout",
     "output_type": "stream",
     "text": [
      "We're using TF 2.16.0-rc0\n",
      "We are using Keras 3.0.5\n"
     ]
    },
    {
     "name": "stderr",
     "output_type": "stream",
     "text": [
      "C:\\Users\\thefl\\PycharmProjects\\task2_Metod_Nikolaev\\.venv\\Lib\\site-packages\\keras\\src\\layers\\core\\dense.py:85: UserWarning: Do not pass an `input_shape`/`input_dim` argument to a layer. When using Sequential models, prefer using an `Input(shape)` object as the first layer in the model instead.\n",
      "  super().__init__(activity_regularizer=activity_regularizer, **kwargs)\n"
     ]
    },
    {
     "name": "stdout",
     "output_type": "stream",
     "text": [
      "Epoch 1/10\n",
      "\u001B[1m938/938\u001B[0m \u001B[32m━━━━━━━━━━━━━━━━━━━━\u001B[0m\u001B[37m\u001B[0m \u001B[1m4s\u001B[0m 3ms/step - accuracy: 0.7793 - loss: 0.6132 - val_accuracy: 0.8387 - val_loss: 0.4471\n",
      "Epoch 2/10\n",
      "\u001B[1m938/938\u001B[0m \u001B[32m━━━━━━━━━━━━━━━━━━━━\u001B[0m\u001B[37m\u001B[0m \u001B[1m3s\u001B[0m 3ms/step - accuracy: 0.8578 - loss: 0.3949 - val_accuracy: 0.8532 - val_loss: 0.3953\n",
      "Epoch 3/10\n",
      "\u001B[1m938/938\u001B[0m \u001B[32m━━━━━━━━━━━━━━━━━━━━\u001B[0m\u001B[37m\u001B[0m \u001B[1m3s\u001B[0m 3ms/step - accuracy: 0.8745 - loss: 0.3418 - val_accuracy: 0.8669 - val_loss: 0.3698\n",
      "Epoch 4/10\n",
      "\u001B[1m938/938\u001B[0m \u001B[32m━━━━━━━━━━━━━━━━━━━━\u001B[0m\u001B[37m\u001B[0m \u001B[1m3s\u001B[0m 3ms/step - accuracy: 0.8827 - loss: 0.3168 - val_accuracy: 0.8684 - val_loss: 0.3610\n",
      "Epoch 5/10\n",
      "\u001B[1m938/938\u001B[0m \u001B[32m━━━━━━━━━━━━━━━━━━━━\u001B[0m\u001B[37m\u001B[0m \u001B[1m3s\u001B[0m 3ms/step - accuracy: 0.8906 - loss: 0.2992 - val_accuracy: 0.8783 - val_loss: 0.3395\n",
      "Epoch 6/10\n",
      "\u001B[1m938/938\u001B[0m \u001B[32m━━━━━━━━━━━━━━━━━━━━\u001B[0m\u001B[37m\u001B[0m \u001B[1m3s\u001B[0m 4ms/step - accuracy: 0.8964 - loss: 0.2765 - val_accuracy: 0.8789 - val_loss: 0.3387\n",
      "Epoch 7/10\n",
      "\u001B[1m938/938\u001B[0m \u001B[32m━━━━━━━━━━━━━━━━━━━━\u001B[0m\u001B[37m\u001B[0m \u001B[1m3s\u001B[0m 3ms/step - accuracy: 0.9015 - loss: 0.2605 - val_accuracy: 0.8688 - val_loss: 0.3550\n",
      "Epoch 8/10\n",
      "\u001B[1m938/938\u001B[0m \u001B[32m━━━━━━━━━━━━━━━━━━━━\u001B[0m\u001B[37m\u001B[0m \u001B[1m3s\u001B[0m 3ms/step - accuracy: 0.9042 - loss: 0.2517 - val_accuracy: 0.8828 - val_loss: 0.3266\n",
      "Epoch 9/10\n",
      "\u001B[1m938/938\u001B[0m \u001B[32m━━━━━━━━━━━━━━━━━━━━\u001B[0m\u001B[37m\u001B[0m \u001B[1m3s\u001B[0m 3ms/step - accuracy: 0.9127 - loss: 0.2413 - val_accuracy: 0.8882 - val_loss: 0.3245\n",
      "Epoch 10/10\n",
      "\u001B[1m938/938\u001B[0m \u001B[32m━━━━━━━━━━━━━━━━━━━━\u001B[0m\u001B[37m\u001B[0m \u001B[1m3s\u001B[0m 3ms/step - accuracy: 0.9146 - loss: 0.2280 - val_accuracy: 0.8804 - val_loss: 0.3509\n"
     ]
    },
    {
     "data": {
      "text/plain": "<keras.src.callbacks.history.History at 0x21efba53860>"
     },
     "execution_count": 2,
     "metadata": {},
     "output_type": "execute_result"
    }
   ],
   "source": [
    "import numpy as np\n",
    "from sklearn.metrics import accuracy_score\n",
    "import tensorflow as tf\n",
    "print(\"We're using TF\", tf.__version__)\n",
    "import keras\n",
    "import keras.models as M\n",
    "import keras.layers as L\n",
    "import keras.backend as K\n",
    "print(\"We are using Keras\", keras.__version__)\n",
    "\n",
    "(x_train, y_train), (x_val, y_val) = tf.keras.datasets.fashion_mnist.load_data()\n",
    "\n",
    "y_train_oh = keras.utils.to_categorical(y_train, 10)\n",
    "y_val_oh = keras.utils.to_categorical(y_val, 10)\n",
    "\n",
    "K.clear_session()\n",
    "model = M.Sequential()\n",
    "model.add(L.Dense(128, input_dim=784, activation='elu'))\n",
    "model.add(L.Dense(128, activation='elu'))\n",
    "model.add(L.Dense(10, activation='softmax'))\n",
    "\n",
    "model.compile(\n",
    " loss='categorical_crossentropy', # минимизируем кросс-энтропию\n",
    " optimizer='adam',\n",
    "metrics=['accuracy'] # выводим процент правильных ответов\n",
    ")\n",
    "\n",
    "x_train_float = x_train.astype(float) / 255 - 0.5\n",
    "x_val_float = x_val.astype(float) / 255 - 0.5\n",
    "\n",
    "model.fit(\n",
    " x_train_float.reshape(-1, 28*28),\n",
    " y_train_oh,\n",
    " batch_size=64, # 64 объекта для подсчета градиента на каждом шаге\n",
    " epochs=10, # 10 проходов по датасету\n",
    " validation_data=(x_val_float.reshape(-1, 28*28), y_val_oh)\n",
    ")\n"
   ],
   "metadata": {
    "collapsed": false,
    "ExecuteTime": {
     "end_time": "2024-04-04T07:37:29.108780Z",
     "start_time": "2024-04-04T07:36:58.689619400Z"
    }
   },
   "id": "8d5c99d3967a6e8a",
   "execution_count": 2
  },
  {
   "cell_type": "code",
   "outputs": [],
   "source": [],
   "metadata": {
    "collapsed": false,
    "ExecuteTime": {
     "end_time": "2024-04-04T07:37:29.109920900Z",
     "start_time": "2024-04-04T07:37:29.103369900Z"
    }
   },
   "id": "96b28437a801b6f3",
   "execution_count": 2
  }
 ],
 "metadata": {
  "kernelspec": {
   "display_name": "Python 3",
   "language": "python",
   "name": "python3"
  },
  "language_info": {
   "codemirror_mode": {
    "name": "ipython",
    "version": 2
   },
   "file_extension": ".py",
   "mimetype": "text/x-python",
   "name": "python",
   "nbconvert_exporter": "python",
   "pygments_lexer": "ipython2",
   "version": "2.7.6"
  }
 },
 "nbformat": 4,
 "nbformat_minor": 5
}
